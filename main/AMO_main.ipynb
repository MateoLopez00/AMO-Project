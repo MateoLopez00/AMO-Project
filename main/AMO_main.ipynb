{
 "cells": [
  {
   "cell_type": "markdown",
   "metadata": {
    "colab_type": "text",
    "id": "view-in-github"
   },
   "source": [
    "<a href=\"https://colab.research.google.com/github/MateoLopez00/AMO-Project/blob/main/AMO_main.ipynb\" target=\"_parent\"><img src=\"https://colab.research.google.com/assets/colab-badge.svg\" alt=\"Open In Colab\"/></a>"
   ]
  },
  {
   "cell_type": "code",
   "execution_count": null,
   "metadata": {
    "id": "hxsdijNOhomx"
   },
   "outputs": [],
   "source": [
    "# Install necessary libraries\n",
    "!pip install pretty_midi numpy matplotlib\n",
    "\n",
    "# Import functions from separate files\n",
    "from midi_processing import extract_midi_features\n",
    "from visualization import plot_piano_roll, plot_polyphony\n",
    "from segmentation import segment_layers\n",
    "from orchestration import create_and_assign_instruments\n",
    "from evaluation import evaluate_orchestration\n",
    "\n",
    "# Load MIDI file\n",
    "piano_midi_file = \"./path/to/piano_midi.mid\"\n",
    "piano_notes = extract_midi_features(piano_midi_file)\n",
    "\n",
    "# Visualize MIDI\n",
    "plot_piano_roll(piano_notes, title=\"Piano Roll\")\n",
    "\n",
    "# Segment into layers\n",
    "melody, harmony, rhythm = segment_layers(piano_notes)\n",
    "\n",
    "# Assign instruments\n",
    "layer_notes = {\n",
    "    \"melody\": (melody, \"Violin\", 60, 81),\n",
    "    \"harmony\": (harmony, \"Cello\", 36, 60),\n",
    "    \"rhythm\": (rhythm, \"Contrabass\", 28, 48)  # Updated name from \"Double Bass\" to \"Contrabass\"\n",
    "}\n",
    "\n",
    "instruments, orchestration_notes = create_and_assign_instruments(layer_notes, instrument_map=None)\n",
    "\n",
    "# Evaluate orchestration\n",
    "evaluation = evaluate_orchestration(piano_notes, orchestration_notes, {\n",
    "    \"Violin\": (60, 81),\n",
    "    \"Cello\": (36, 60),\n",
    "    \"Double Bass\": (28, 48)\n",
    "})\n",
    "print(evaluation)\n",
    "\n",
    "# Visualize orchestration polyphony\n",
    "plot_polyphony(orchestration_notes)\n"
   ]
  }
 ],
 "metadata": {
  "colab": {
   "authorship_tag": "ABX9TyPBe7Pv8E6D2kdaM6ItsJac",
   "include_colab_link": true,
   "provenance": []
  },
  "kernelspec": {
   "display_name": "Python 3",
   "name": "python3"
  },
  "language_info": {
   "name": "python"
  }
 },
 "nbformat": 4,
 "nbformat_minor": 0
}
