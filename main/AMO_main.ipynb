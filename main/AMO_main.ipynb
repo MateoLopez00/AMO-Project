{
 "cells": [
  {
   "cell_type": "markdown",
   "metadata": {
    "colab_type": "text",
    "id": "view-in-github"
   },
   "source": [
    "<a href=\"https://colab.research.google.com/github/MateoLopez00/AMO-Project/blob/main/AMO_main.ipynb\" target=\"_parent\"><img src=\"https://colab.research.google.com/assets/colab-badge.svg\" alt=\"Open In Colab\"/></a>"
   ]
  },
  {
   "cell_type": "code",
   "execution_count": null,
   "metadata": {
    "id": "hxsdijNOhomx"
   },
   "outputs": [],
   "source": [
    "# Install required libraries\n",
    "!pip install pretty_midi numpy matplotlib\n",
    "\n",
    "# Remove existing directory and re-clone the repository\n",
    "!rm -rf /content/AMO-Project\n",
    "!git clone https://github.com/MateoLopez00/AMO-Project.git\n",
    "\n",
    "# Add the functions folder to sys.path\n",
    "import sys\n",
    "sys.path.append('/content/AMO-Project/functions')\n",
    "\n",
    "# Import pretty_midi directly for main notebook usage\n",
    "import pretty_midi\n",
    "\n",
    "# Import functions from the modules\n",
    "from midi_processing import extract_midi_features\n",
    "from visualization import plot_piano_roll, plot_polyphony\n",
    "from segmentation import segment_layers\n",
    "from orchestration import create_and_assign_instruments\n",
    "from evaluation import evaluate_orchestration\n",
    "\n",
    "# Main workflow\n",
    "piano_midi_path = \"/content/AMO-Project/examples/sugar-plum-fairy-piano_solo.mid\"\n",
    "orchestration_midi_path = \"orchestration.mid\"\n",
    "\n",
    "instrument_map = {\n",
    "    \"melody\": (\"Violin\", 55, 103),\n",
    "    \"harmony\": (\"French Horn\", 36, 65),\n",
    "    \"rhythm\": (\"Timpani\", 29, 51)\n",
    "}\n",
    "\n",
    "# Load and process MIDI\n",
    "piano_notes = extract_midi_features(piano_midi_path)\n",
    "plot_piano_roll(piano_notes, \"Piano MIDI Roll\")\n",
    "\n",
    "# Segment layers\n",
    "melody, harmony, rhythm = segment_layers(piano_notes)\n",
    "\n",
    "# Assign notes to instruments\n",
    "layer_notes = {\n",
    "    \"melody\": (melody, *instrument_map[\"melody\"]),\n",
    "    \"harmony\": (harmony, *instrument_map[\"harmony\"]),\n",
    "    \"rhythm\": (rhythm, *instrument_map[\"rhythm\"]),\n",
    "}\n",
    "instruments, orchestration_notes = create_and_assign_instruments(layer_notes, instrument_map)\n",
    "\n",
    "# Save orchestration MIDI\n",
    "orchestral_midi = pretty_midi.PrettyMIDI()\n",
    "orchestral_midi.instruments.extend(instruments.values())\n",
    "orchestral_midi.write(orchestration_midi_path)\n",
    "\n",
    "# Evaluate and display results\n",
    "instrument_ranges = {name: (min_pitch, max_pitch) for name, min_pitch, max_pitch in instrument_map.values()}\n",
    "evaluation_results = evaluate_orchestration(piano_notes, orchestration_notes, instrument_ranges)\n",
    "print(\"Evaluation Results:\", evaluation_results)\n",
    "\n",
    "# Plot polyphony\n",
    "plot_polyphony(orchestration_notes)\n"
   ]
  }
 ],
 "metadata": {
  "colab": {
   "authorship_tag": "ABX9TyPBe7Pv8E6D2kdaM6ItsJac",
   "include_colab_link": true,
   "provenance": []
  },
  "kernelspec": {
   "display_name": "Python 3",
   "name": "python3"
  },
  "language_info": {
   "name": "python"
  }
 },
 "nbformat": 4,
 "nbformat_minor": 0
}
