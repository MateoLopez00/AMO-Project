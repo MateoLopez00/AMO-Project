{
  "nbformat": 4,
  "nbformat_minor": 0,
  "metadata": {
    "colab": {
      "provenance": [],
      "authorship_tag": "ABX9TyPBe7Pv8E6D2kdaM6ItsJac",
      "include_colab_link": true
    },
    "kernelspec": {
      "name": "python3",
      "display_name": "Python 3"
    },
    "language_info": {
      "name": "python"
    }
  },
  "cells": [
    {
      "cell_type": "markdown",
      "metadata": {
        "id": "view-in-github",
        "colab_type": "text"
      },
      "source": [
        "<a href=\"https://colab.research.google.com/github/MateoLopez00/AMO-Project/blob/main/AMO_main.ipynb\" target=\"_parent\"><img src=\"https://colab.research.google.com/assets/colab-badge.svg\" alt=\"Open In Colab\"/></a>"
      ]
    },
    {
      "cell_type": "code",
      "execution_count": null,
      "metadata": {
        "id": "hxsdijNOhomx"
      },
      "outputs": [],
      "source": [
        "# Clone the GitHub repository\n",
        "!git clone https://github.com/your-username/your-repository.git\n",
        "\n",
        "# Add the repository path to sys.path\n",
        "import sys\n",
        "sys.path.append('/content/your-repository')\n",
        "\n",
        "# Import necessary modules or functions\n",
        "from midi_processing import midi_to_nmat\n",
        "from data_processing import pad_features, split_into_chunks\n",
        "from model import build_transformer_model\n",
        "from evaluation import evaluate_predictions\n",
        "from workflow import main_workflow\n",
        "\n",
        "# Run the main workflow\n",
        "# Specify your MIDI files and parameters\n",
        "piano_file = \"./sugar-plum-fairy-piano_solo.mid\"\n",
        "orchestra_file = \"./sugar-plum-fairy_orch.mid\"\n",
        "\n",
        "# Optional: Customize parameters\n",
        "seq_len = 50\n",
        "feature_dim = 6\n",
        "\n",
        "# Call the main workflow\n",
        "main_workflow(piano_file, orchestra_file, seq_len, feature_dim)\n"
      ]
    }
  ]
}